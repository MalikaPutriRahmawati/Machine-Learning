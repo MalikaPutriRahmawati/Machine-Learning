{
 "cells": [
  {
   "cell_type": "code",
   "execution_count": 2,
   "metadata": {
    "colab": {
     "base_uri": "https://localhost:8080/"
    },
    "id": "OqsKZPiSzYW_",
    "outputId": "bcb35eb9-0189-4a30-af42-7d995cfc78ec"
   },
   "outputs": [
    {
     "name": "stdout",
     "output_type": "stream",
     "text": [
      "Requirement already satisfied: kaggle in /usr/local/lib/python3.10/dist-packages (1.6.17)\n",
      "Requirement already satisfied: six>=1.10 in /usr/local/lib/python3.10/dist-packages (from kaggle) (1.16.0)\n",
      "Requirement already satisfied: certifi>=2023.7.22 in /usr/local/lib/python3.10/dist-packages (from kaggle) (2024.8.30)\n",
      "Requirement already satisfied: python-dateutil in /usr/local/lib/python3.10/dist-packages (from kaggle) (2.8.2)\n",
      "Requirement already satisfied: requests in /usr/local/lib/python3.10/dist-packages (from kaggle) (2.32.3)\n",
      "Requirement already satisfied: tqdm in /usr/local/lib/python3.10/dist-packages (from kaggle) (4.66.6)\n",
      "Requirement already satisfied: python-slugify in /usr/local/lib/python3.10/dist-packages (from kaggle) (8.0.4)\n",
      "Requirement already satisfied: urllib3 in /usr/local/lib/python3.10/dist-packages (from kaggle) (2.2.3)\n",
      "Requirement already satisfied: bleach in /usr/local/lib/python3.10/dist-packages (from kaggle) (6.2.0)\n",
      "Requirement already satisfied: webencodings in /usr/local/lib/python3.10/dist-packages (from bleach->kaggle) (0.5.1)\n",
      "Requirement already satisfied: text-unidecode>=1.3 in /usr/local/lib/python3.10/dist-packages (from python-slugify->kaggle) (1.3)\n",
      "Requirement already satisfied: charset-normalizer<4,>=2 in /usr/local/lib/python3.10/dist-packages (from requests->kaggle) (3.4.0)\n",
      "Requirement already satisfied: idna<4,>=2.5 in /usr/local/lib/python3.10/dist-packages (from requests->kaggle) (3.10)\n"
     ]
    }
   ],
   "source": [
    "!pip install kaggle"
   ]
  },
  {
   "cell_type": "code",
   "execution_count": 3,
   "metadata": {
    "id": "lRHCzSeRzCru"
   },
   "outputs": [],
   "source": [
    "!mkdir -p ~/.kaggle"
   ]
  },
  {
   "cell_type": "code",
   "execution_count": null,
   "metadata": {
    "id": "sxSo_I3czIDe"
   },
   "outputs": [],
   "source": [
    "import json\n",
    "import os\n",
    "\n",
    "kaggle_credentials = {\n",
    "  \"username\": os.getenv(\"KAGGLE_USERNAME\"),\n",
    "  \"key\": os.getenv(\"KAGGLE_KEY\")\n",
    "}\n",
    "\n",
    "with open('/root/.kaggle/kaggle.json', 'w') as f:\n",
    "  json.dump(kaggle_credentials, f)"
   ]
  },
  {
   "cell_type": "code",
   "execution_count": 5,
   "metadata": {
    "id": "noxNo1sNzTrN"
   },
   "outputs": [],
   "source": [
    "!chmod 600 ~/.kaggle/kaggle.json"
   ]
  },
  {
   "cell_type": "code",
   "execution_count": 6,
   "metadata": {
    "colab": {
     "base_uri": "https://localhost:8080/"
    },
    "id": "EsIwUdq_zKQ8",
    "outputId": "c276a776-7855-4c17-830e-50522f83ef38"
   },
   "outputs": [
    {
     "name": "stdout",
     "output_type": "stream",
     "text": [
      "Output file downloaded to ./_output_.zip\n",
      "Kernel log downloaded to ./sumarizing-model.log \n"
     ]
    }
   ],
   "source": [
    "!kaggle kernels output langarirano123/sumarizing-model -p ./"
   ]
  },
  {
   "cell_type": "code",
   "execution_count": null,
   "metadata": {
    "id": "XOFkETjlzqqD"
   },
   "outputs": [],
   "source": [
    "!unzip _output_.zip"
   ]
  },
  {
   "cell_type": "code",
   "execution_count": 9,
   "metadata": {
    "colab": {
     "base_uri": "https://localhost:8080/"
    },
    "id": "CKIiCD6zmwyh",
    "outputId": "3bc82d1b-5440-4130-c7ca-477d9c056c8e"
   },
   "outputs": [
    {
     "name": "stderr",
     "output_type": "stream",
     "text": [
      "All model checkpoint layers were used when initializing TFT5ForConditionalGeneration.\n",
      "\n",
      "All the layers of TFT5ForConditionalGeneration were initialized from the model checkpoint at ./summarization_model.\n",
      "If your task is similar to the task the model of the checkpoint was trained on, you can already use TFT5ForConditionalGeneration for predictions without further training.\n"
     ]
    }
   ],
   "source": [
    "from transformers import TFAutoModelForSeq2SeqLM, AutoTokenizer\n",
    "import tensorflow as tf\n",
    "\n",
    "# Load the model and tokenizer\n",
    "model_path = \"./summarization_model\"\n",
    "model = TFAutoModelForSeq2SeqLM.from_pretrained(model_path)\n",
    "tokenizer = AutoTokenizer.from_pretrained(model_path)"
   ]
  },
  {
   "cell_type": "code",
   "execution_count": 10,
   "metadata": {
    "colab": {
     "base_uri": "https://localhost:8080/"
    },
    "id": "PgHzSl43my8v",
    "outputId": "34a4cbc2-20e7-47d9-b194-d931f4c200c1"
   },
   "outputs": [
    {
     "name": "stdout",
     "output_type": "stream",
     "text": [
      "Summary: Algoritma machine learning adalah cabang dari kecerdasan buatan yang memungkinkan komputer belajar dari data tanpa harus diprogram secara eksplisit.\n"
     ]
    }
   ],
   "source": [
    "# Function to summarize text\n",
    "def summarize_text(text):\n",
    "    inputs = tokenizer(\"summarize: \" + text, return_tensors=\"tf\", max_length=1024, truncation=True)\n",
    "    summary_ids = model.generate(inputs[\"input_ids\"], max_length=150, min_length=40, length_penalty=2.0, num_beams=4, early_stopping=True)\n",
    "    summary = tokenizer.decode(summary_ids[0], skip_special_tokens=True)\n",
    "    return summary\n",
    "\n",
    "# Test the summarization\n",
    "test_text = \"Machine Learning adalah cabang dari kecerdasan buatan (AI) yang memungkinkan komputer belajar dari data tanpa harus diprogram secara eksplisit. Proses ini melibatkan pengembangan model matematika yang mampu mengenali pola atau hubungan dalam data. Algoritma machine learning dapat diklasifikasikan menjadi tiga kategori utama: supervised learning, unsupervised learning, dan reinforcement learning. Supervised learning menggunakan data berlabel untuk memprediksi hasil tertentu, sedangkan unsupervised learning mengidentifikasi struktur tersembunyi dalam data tanpa label. Dalam reinforcement learning, model belajar melalui trial and error dengan menerima reward atau penalti dari lingkungannya. Beberapa algoritma populer meliputi regresi linear, decision tree, k-nearest neighbors, dan neural networks. Machine learning digunakan secara luas di berbagai bidang seperti pengenalan wajah, analisis prediktif, sistem rekomendasi, dan pemrosesan bahasa alami. Keberhasilan model machine learning sangat bergantung pada kualitas data, teknik praproses data, dan parameter algoritma yang digunakan. Tantangan utama dalam machine learning mencakup overfitting, underfitting, dan bias data. Dengan berkembangnya teknologi, machine learning semakin memainkan peran penting dalam solusi berbasis data di era digital ini.\"\n",
    "summary = summarize_text(test_text)\n",
    "print(\"Summary:\", summary)"
   ]
  }
 ],
 "metadata": {
  "accelerator": "GPU",
  "colab": {
   "gpuType": "T4",
   "provenance": []
  },
  "kernelspec": {
   "display_name": "Python 3",
   "name": "python3"
  },
  "language_info": {
   "name": "python"
  }
 },
 "nbformat": 4,
 "nbformat_minor": 0
}
